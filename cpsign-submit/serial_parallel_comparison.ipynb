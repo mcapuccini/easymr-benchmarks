{
 "cells": [
  {
   "cell_type": "code",
   "execution_count": 25,
   "metadata": {
    "collapsed": false
   },
   "outputs": [
    {
     "data": {
      "text/plain": [
       "true"
      ]
     },
     "execution_count": 25,
     "metadata": {},
     "output_type": "execute_result"
    }
   ],
   "source": [
    "import scala.io.Source\n",
    "\n",
    "val serialSrc = Source.fromFile(\"predictions_1.tsv\").getLines\n",
    "val parallelSrc = Source.fromFile(\"predictions_40.csv\").getLines\n",
    "val serial = serialSrc.map { line =>\n",
    "    val spl = line.split(\"\\t\")\n",
    "    val id = spl(4)\n",
    "    val pv = spl(5).split(\", \").map(_.replace(\"{1=\",\"\")).map(_.replace(\"0=\",\"\")).map(_.replace(\"}\",\"\"))\n",
    "    (id,pv(1),pv(0))\n",
    "}\n",
    "val parallel = parallelSrc.map { line =>\n",
    "    val spl = line.split(\",\")\n",
    "    (spl(0).replace(\"\\\"\",\"\"),spl(1),spl(2))\n",
    "}\n",
    "(parallel.toArray.sorted,serial.toArray.sorted).zipped.map {\n",
    "    case((ida,pv0a,pv1a),(idb,pv0b,pv1b)) => \n",
    "        ida == idb && \n",
    "        (pv0a.toDouble - pv0a.toDouble).abs <= 0.001 &&\n",
    "        (pv0b.toDouble - pv0b.toDouble).abs <= 0.001\n",
    "}.reduce(_&&_)"
   ]
  }
 ],
 "metadata": {
  "kernelspec": {
   "display_name": "Apache Toree - Scala",
   "language": "scala",
   "name": "apache_toree_scala"
  },
  "language_info": {
   "file_extension": ".scala",
   "name": "scala",
   "version": "2.11.8"
  }
 },
 "nbformat": 4,
 "nbformat_minor": 2
}
